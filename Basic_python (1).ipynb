{
  "nbformat": 4,
  "nbformat_minor": 0,
  "metadata": {
    "colab": {
      "provenance": [],
      "toc_visible": true,
      "collapsed_sections": [
        "ILJL9gTT54Os",
        "KTnwx7RLcXXO",
        "7nrdt00UgDrH",
        "2t_y7Ik7uuJl",
        "1RmjEdYPZlg_",
        "iu1apc3Uec2G",
        "73RnNR6klpep",
        "n81VYJHtqg93",
        "-uzyOpzRgITs",
        "JE6s1QiM9ZUW"
      ]
    },
    "kernelspec": {
      "name": "python3",
      "display_name": "Python 3"
    },
    "language_info": {
      "name": "python"
    }
  },
  "cells": [
    {
      "cell_type": "markdown",
      "source": [
        "# **PYTHON**"
      ],
      "metadata": {
        "id": "2MVQU8pqz7MW"
      }
    },
    {
      "cell_type": "markdown",
      "source": [
        "## **List**"
      ],
      "metadata": {
        "id": "ILJL9gTT54Os"
      }
    },
    {
      "cell_type": "markdown",
      "source": [],
      "metadata": {
        "id": "bzz6kyC9b9-W"
      }
    },
    {
      "cell_type": "code",
      "source": [
        "#List:\n",
        "alwlaeed = [1, 2, 3, 4, 5]\n",
        "x= ['a','b','c']\n",
        "print(x[0])"
      ],
      "metadata": {
        "colab": {
          "base_uri": "https://localhost:8080/"
        },
        "id": "z_-nwZbMHyGH",
        "outputId": "d5e357ca-8ab3-4e56-95f4-521e310d44d7"
      },
      "execution_count": null,
      "outputs": [
        {
          "output_type": "stream",
          "name": "stdout",
          "text": [
            "a\n"
          ]
        }
      ]
    },
    {
      "cell_type": "code",
      "source": [
        "#List function\n",
        "x= ['a','b','c']\n",
        "x.append('d')\n",
        "print(x)"
      ],
      "metadata": {
        "colab": {
          "base_uri": "https://localhost:8080/"
        },
        "id": "ARn-AwP2Ia9k",
        "outputId": "ad81682e-2ff3-4288-cc60-dcbcc2bbb8fb"
      },
      "execution_count": null,
      "outputs": [
        {
          "output_type": "stream",
          "name": "stdout",
          "text": [
            "['a', 'b', 'c', 'd']\n"
          ]
        }
      ]
    },
    {
      "cell_type": "code",
      "source": [
        "#List insert\n",
        "x=['a','b','c']\n",
        "x.insert(2,'d')\n",
        "print(x)"
      ],
      "metadata": {
        "colab": {
          "base_uri": "https://localhost:8080/"
        },
        "id": "QUCrcHrPJfXW",
        "outputId": "7390deea-01e3-41b8-ce40-677faf4d8fb1"
      },
      "execution_count": null,
      "outputs": [
        {
          "output_type": "stream",
          "name": "stdout",
          "text": [
            "['a', 'b', 'd', 'c']\n"
          ]
        }
      ]
    },
    {
      "cell_type": "code",
      "source": [
        "#list Remove\n",
        "x=['a','b','c']\n",
        "x.remove('a')\n",
        "print(x)\n"
      ],
      "metadata": {
        "colab": {
          "base_uri": "https://localhost:8080/"
        },
        "id": "20K9GyhNKIs8",
        "outputId": "4a256dab-f160-4b8f-b96f-dd234ef3cdb9"
      },
      "execution_count": null,
      "outputs": [
        {
          "output_type": "stream",
          "name": "stdout",
          "text": [
            "['b', 'c']\n"
          ]
        }
      ]
    },
    {
      "cell_type": "code",
      "source": [
        "#list Delete\n",
        "x=['a','b','c']\n",
        "del x[1]\n",
        "print(x)"
      ],
      "metadata": {
        "colab": {
          "base_uri": "https://localhost:8080/"
        },
        "id": "zkaaOpBVKnp8",
        "outputId": "b5bf26c3-9c13-4676-ec6a-2d24cbc27981"
      },
      "execution_count": null,
      "outputs": [
        {
          "output_type": "stream",
          "name": "stdout",
          "text": [
            "['a', 'c']\n"
          ]
        }
      ]
    },
    {
      "cell_type": "code",
      "source": [
        "# list length\n",
        "x=['a','b','c']\n",
        "print(len(x))"
      ],
      "metadata": {
        "colab": {
          "base_uri": "https://localhost:8080/"
        },
        "id": "RYWUKq06LCS3",
        "outputId": "a5fea3aa-5fe3-4ab2-fd0c-b03ad45dc363"
      },
      "execution_count": null,
      "outputs": [
        {
          "output_type": "stream",
          "name": "stdout",
          "text": [
            "3\n"
          ]
        }
      ]
    },
    {
      "cell_type": "code",
      "source": [
        "#pop\n",
        "x=['a','b','c']\n",
        "x.pop()\n",
        "print(x)"
      ],
      "metadata": {
        "colab": {
          "base_uri": "https://localhost:8080/"
        },
        "id": "EDHjwW05MFDP",
        "outputId": "3282e43f-19db-4ba9-968a-2651aedeff98"
      },
      "execution_count": null,
      "outputs": [
        {
          "output_type": "stream",
          "name": "stdout",
          "text": [
            "['a', 'b']\n"
          ]
        }
      ]
    },
    {
      "cell_type": "code",
      "source": [
        "#slicing\n",
        "x=['a','b','c']\n",
        "print(x[1:3])\n",
        "#slicing\n",
        "x=['a','b','c']\n",
        "print(x[:3])\n",
        "#slicing\n",
        "x=['a','b','c']\n",
        "print(x[1:])\n",
        "#slicing\n",
        "x=['a','b','c']\n",
        "print(x[1:-1])"
      ],
      "metadata": {
        "colab": {
          "base_uri": "https://localhost:8080/"
        },
        "id": "mOWwB4SbNp2D",
        "outputId": "e24db4bf-9132-4276-ebe2-4f96715ca18b"
      },
      "execution_count": null,
      "outputs": [
        {
          "output_type": "stream",
          "name": "stdout",
          "text": [
            "['b', 'c']\n",
            "['a', 'b', 'c']\n",
            "['b', 'c']\n",
            "['b']\n"
          ]
        }
      ]
    },
    {
      "cell_type": "code",
      "source": [
        "#extend\n",
        "x=['a','b','c']\n",
        "y=['d','e','f']\n",
        "x.extend(y)\n",
        "print(x)\n",
        "\n",
        "#extend\n",
        "x=['a','b','c']\n",
        "y=['d','e','f']\n",
        "z=[]\n",
        "z.extend(x)\n",
        "z.extend(y)\n",
        "print(z)"
      ],
      "metadata": {
        "colab": {
          "base_uri": "https://localhost:8080/"
        },
        "id": "z2EPWOgmNuXu",
        "outputId": "1f619b25-c133-4470-a215-90173442dfb7"
      },
      "execution_count": null,
      "outputs": [
        {
          "output_type": "stream",
          "name": "stdout",
          "text": [
            "['a', 'b', 'c', 'd', 'e', 'f']\n",
            "['a', 'b', 'c', 'd', 'e', 'f']\n"
          ]
        }
      ]
    },
    {
      "cell_type": "code",
      "source": [
        "#count\n",
        "x=['a','b','b','b','c']\n",
        "print(x.count('b'))"
      ],
      "metadata": {
        "colab": {
          "base_uri": "https://localhost:8080/"
        },
        "id": "_OpyDYHnN4g3",
        "outputId": "09b7e27d-84f5-4cb3-8e1a-1c85831ffaca"
      },
      "execution_count": null,
      "outputs": [
        {
          "output_type": "stream",
          "name": "stdout",
          "text": [
            "3\n"
          ]
        }
      ]
    },
    {
      "cell_type": "code",
      "source": [
        "#in\n",
        "x=['a','b','c']\n",
        "y = 'b'in x\n",
        "print(y)"
      ],
      "metadata": {
        "colab": {
          "base_uri": "https://localhost:8080/"
        },
        "id": "KrRh7fMIOQF5",
        "outputId": "8772b99f-0c91-4842-ab28-6404650ca0a2"
      },
      "execution_count": null,
      "outputs": [
        {
          "output_type": "stream",
          "name": "stdout",
          "text": [
            "True\n"
          ]
        }
      ]
    },
    {
      "cell_type": "code",
      "source": [
        "#index\n",
        "x=['a','b','c']\n",
        "print(x.index('b'))"
      ],
      "metadata": {
        "colab": {
          "base_uri": "https://localhost:8080/"
        },
        "id": "6TCtDttoPLbW",
        "outputId": "5f0576fa-7ae5-4ad3-9cd0-ad229ba8a411"
      },
      "execution_count": null,
      "outputs": [
        {
          "output_type": "stream",
          "name": "stdout",
          "text": [
            "1\n"
          ]
        }
      ]
    },
    {
      "cell_type": "code",
      "source": [
        "#sort\n",
        "x=['c','b','a']\n",
        "x.sort()\n",
        "print(x)\n",
        "#sort\n",
        "x=['c','a','b']\n",
        "x.sort(reverse =True)\n",
        "print(x)"
      ],
      "metadata": {
        "colab": {
          "base_uri": "https://localhost:8080/"
        },
        "id": "SBFIiIwZPVLG",
        "outputId": "de51949c-8333-4119-8eb6-a90acf54bd56"
      },
      "execution_count": null,
      "outputs": [
        {
          "output_type": "stream",
          "name": "stdout",
          "text": [
            "['a', 'b', 'c']\n",
            "['c', 'b', 'a']\n"
          ]
        }
      ]
    },
    {
      "cell_type": "code",
      "source": [
        "x=['c','b','a']\n",
        "print(sorted(x))\n",
        "print(x)"
      ],
      "metadata": {
        "colab": {
          "base_uri": "https://localhost:8080/"
        },
        "id": "uRHplj0APucI",
        "outputId": "7fd5a44b-6c4d-47d2-a954-b697efae6b9a"
      },
      "execution_count": null,
      "outputs": [
        {
          "output_type": "stream",
          "name": "stdout",
          "text": [
            "['a', 'b', 'c']\n",
            "['c', 'b', 'a']\n"
          ]
        }
      ]
    },
    {
      "cell_type": "code",
      "source": [
        "#join two list with +\n",
        "x=['a','b','c']\n",
        "y=['d','e','f']\n",
        "z= x+y\n",
        "print(z)\n",
        "\n"
      ],
      "metadata": {
        "colab": {
          "base_uri": "https://localhost:8080/"
        },
        "id": "TPEixwBIQqqd",
        "outputId": "ea021288-a3c7-4d6e-8bb0-2cda782f27f8"
      },
      "execution_count": null,
      "outputs": [
        {
          "output_type": "stream",
          "name": "stdout",
          "text": [
            "['a', 'b', 'c', 'd', 'e', 'f']\n"
          ]
        }
      ]
    },
    {
      "cell_type": "code",
      "source": [
        "#copy\n",
        "x=['a','b','c']\n",
        "y=x.copy()\n",
        "print(y)"
      ],
      "metadata": {
        "colab": {
          "base_uri": "https://localhost:8080/"
        },
        "id": "wSkgy7s2Q7bx",
        "outputId": "c95cd540-0cdc-479a-9cf6-5f4e14e78a97"
      },
      "execution_count": null,
      "outputs": [
        {
          "output_type": "stream",
          "name": "stdout",
          "text": [
            "['a', 'b', 'c']\n"
          ]
        }
      ]
    },
    {
      "cell_type": "code",
      "source": [
        "#Clear\n",
        "x=['a','b','c']\n",
        "x.clear()\n",
        "print(x)"
      ],
      "metadata": {
        "colab": {
          "base_uri": "https://localhost:8080/"
        },
        "id": "nd14_6GLRXXA",
        "outputId": "32e41783-5101-474c-82c5-0da64ba5f3a2"
      },
      "execution_count": null,
      "outputs": [
        {
          "output_type": "stream",
          "name": "stdout",
          "text": [
            "[]\n"
          ]
        }
      ]
    },
    {
      "cell_type": "markdown",
      "source": [
        "Tuple"
      ],
      "metadata": {
        "id": "IVm4eIyRb0cG"
      }
    },
    {
      "cell_type": "markdown",
      "source": [
        "## **Tuple**"
      ],
      "metadata": {
        "id": "KTnwx7RLcXXO"
      }
    },
    {
      "cell_type": "code",
      "source": [
        "#tuple\n",
        "x=(1,2,3,4,5)\n",
        "print(x)"
      ],
      "metadata": {
        "id": "Qd42pRYIcc0e"
      },
      "execution_count": null,
      "outputs": []
    },
    {
      "cell_type": "code",
      "source": [
        "#tuple\n",
        "x=(1,2,3,4,5)\n",
        "print(x[2])\n",
        "print(x[0:2])"
      ],
      "metadata": {
        "colab": {
          "base_uri": "https://localhost:8080/"
        },
        "id": "xv4YCdFjchHf",
        "outputId": "e6ef9437-39b2-46df-b4a0-70bdf2ff829e"
      },
      "execution_count": null,
      "outputs": [
        {
          "output_type": "stream",
          "name": "stdout",
          "text": [
            "3\n",
            "(1, 2)\n"
          ]
        }
      ]
    },
    {
      "cell_type": "code",
      "source": [
        "#check\n",
        "x=(1,2,3,4,)\n",
        "y = 2 in x\n",
        "print(y)"
      ],
      "metadata": {
        "colab": {
          "base_uri": "https://localhost:8080/"
        },
        "id": "hmS-C57Wda3W",
        "outputId": "46c8c568-4649-40b3-de42-06d07d936f88"
      },
      "execution_count": null,
      "outputs": [
        {
          "output_type": "stream",
          "name": "stdout",
          "text": [
            "True\n"
          ]
        }
      ]
    },
    {
      "cell_type": "code",
      "source": [
        "#join\n",
        "x=(1,2,3,4,)\n",
        "y=(5,6,7,8,)\n",
        "z=x+y\n",
        "print(z)"
      ],
      "metadata": {
        "colab": {
          "base_uri": "https://localhost:8080/"
        },
        "id": "vQy6g0Gbd7QO",
        "outputId": "f5964416-a718-474a-9917-d0a41d63be4f"
      },
      "execution_count": null,
      "outputs": [
        {
          "output_type": "stream",
          "name": "stdout",
          "text": [
            "(1, 2, 3, 4, 5, 6, 7, 8)\n"
          ]
        }
      ]
    },
    {
      "cell_type": "code",
      "source": [
        "#tuple to list\n",
        "x=(1,2,3,4,)\n",
        "y=list(x)\n",
        "print(y)"
      ],
      "metadata": {
        "colab": {
          "base_uri": "https://localhost:8080/"
        },
        "id": "3CgnGLDheVWF",
        "outputId": "d66606f4-c99d-49f5-8ae6-46e63e22be80"
      },
      "execution_count": null,
      "outputs": [
        {
          "output_type": "stream",
          "name": "stdout",
          "text": [
            "[1, 2, 3, 4]\n"
          ]
        }
      ]
    },
    {
      "cell_type": "code",
      "source": [
        "#list to tuple\n",
        "x=[1,2,3,4,]\n",
        "y=tuple(x)\n",
        "print(y)"
      ],
      "metadata": {
        "colab": {
          "base_uri": "https://localhost:8080/"
        },
        "id": "RR6cc4PqftX3",
        "outputId": "47ca6735-5c3c-4b84-fce7-9428d3462d40"
      },
      "execution_count": null,
      "outputs": [
        {
          "output_type": "stream",
          "name": "stdout",
          "text": [
            "(1, 2, 3, 4)\n"
          ]
        }
      ]
    },
    {
      "cell_type": "markdown",
      "source": [
        "## **Set**"
      ],
      "metadata": {
        "id": "7nrdt00UgDrH"
      }
    },
    {
      "cell_type": "code",
      "source": [
        "#set\n",
        "x={2,3,4,5,5,1}\n",
        "print(x)"
      ],
      "metadata": {
        "colab": {
          "base_uri": "https://localhost:8080/"
        },
        "id": "j4I1cRbGgQ8n",
        "outputId": "fc8d9cec-31ee-4c84-a1be-e3fbcbea3e18"
      },
      "execution_count": null,
      "outputs": [
        {
          "output_type": "stream",
          "name": "stdout",
          "text": [
            "{1, 2, 3, 4, 5}\n"
          ]
        }
      ]
    },
    {
      "cell_type": "code",
      "source": [
        "#add\n",
        "x={2,3,4,5,5,1}\n",
        "x.add(6)\n",
        "print(x)"
      ],
      "metadata": {
        "colab": {
          "base_uri": "https://localhost:8080/"
        },
        "id": "7iAnFY2chAkw",
        "outputId": "1e8d7e89-689f-40d1-f433-11c832bf3a33"
      },
      "execution_count": null,
      "outputs": [
        {
          "output_type": "stream",
          "name": "stdout",
          "text": [
            "{1, 2, 3, 4, 5, 6}\n"
          ]
        }
      ]
    },
    {
      "cell_type": "code",
      "source": [
        "#update\n",
        "x={2,3,4,5,5,1}\n",
        "y={6,7,8,9}\n",
        "x.update(y)\n",
        "print(x)"
      ],
      "metadata": {
        "colab": {
          "base_uri": "https://localhost:8080/"
        },
        "id": "h0KE6MNFhKs_",
        "outputId": "d3d3856c-d098-4b91-bd35-92c872d17e8b"
      },
      "execution_count": null,
      "outputs": [
        {
          "output_type": "stream",
          "name": "stdout",
          "text": [
            "{1, 2, 3, 4, 5, 6, 7, 8, 9}\n"
          ]
        }
      ]
    },
    {
      "cell_type": "code",
      "source": [
        "#remove\n",
        "x={2,3,4,5,5,1}\n",
        "x.remove(5)\n",
        "print(x)"
      ],
      "metadata": {
        "colab": {
          "base_uri": "https://localhost:8080/"
        },
        "id": "zUSBuWS8hU9X",
        "outputId": "bf097f83-12e4-42f5-a0f2-2f3d9f31353a"
      },
      "execution_count": null,
      "outputs": [
        {
          "output_type": "stream",
          "name": "stdout",
          "text": [
            "{1, 2, 3, 4}\n"
          ]
        }
      ]
    },
    {
      "cell_type": "code",
      "source": [
        "#discard\n",
        "x={2,3,4,5,5,1}\n",
        "x.discard(2)\n",
        "print(x)"
      ],
      "metadata": {
        "colab": {
          "base_uri": "https://localhost:8080/"
        },
        "id": "KOKmnz03h02v",
        "outputId": "d7384964-7dce-4311-b405-2c2c066d09b7"
      },
      "execution_count": null,
      "outputs": [
        {
          "output_type": "stream",
          "name": "stdout",
          "text": [
            "{1, 3, 4, 5}\n"
          ]
        }
      ]
    },
    {
      "cell_type": "code",
      "source": [
        "#pop\n",
        "x={2,3,4,5,5,1}\n",
        "x.pop()\n",
        "print(x)"
      ],
      "metadata": {
        "colab": {
          "base_uri": "https://localhost:8080/"
        },
        "id": "Pab6gePYiaSX",
        "outputId": "330d2fdb-33a4-42aa-c016-e5a1fb1510a1"
      },
      "execution_count": null,
      "outputs": [
        {
          "output_type": "stream",
          "name": "stdout",
          "text": [
            "{2, 3, 4, 5}\n"
          ]
        }
      ]
    },
    {
      "cell_type": "code",
      "source": [
        "#clear\n",
        "x={2,3,4,5,5,1}\n",
        "x.clear()\n",
        "print(x)"
      ],
      "metadata": {
        "colab": {
          "base_uri": "https://localhost:8080/"
        },
        "id": "R9pXIrPiiiPH",
        "outputId": "2ab29ece-986e-42b6-df49-c0a56829d4f9"
      },
      "execution_count": null,
      "outputs": [
        {
          "output_type": "stream",
          "name": "stdout",
          "text": [
            "set()\n"
          ]
        }
      ]
    },
    {
      "cell_type": "code",
      "source": [
        "#delete\n",
        "x={2,3,4,5,5,1}\n",
        "del x\n"
      ],
      "metadata": {
        "id": "Trp3bk-ujBSX"
      },
      "execution_count": null,
      "outputs": []
    },
    {
      "cell_type": "code",
      "source": [
        "#union\n",
        "x={1,2,3}\n",
        "y={4,5,6,2}\n",
        "z=x.union(y)\n",
        "print(z)\n"
      ],
      "metadata": {
        "colab": {
          "base_uri": "https://localhost:8080/"
        },
        "id": "YUeGMmJukJ63",
        "outputId": "1631f9be-ebe7-4852-b4c6-3d784cda1ff0"
      },
      "execution_count": null,
      "outputs": [
        {
          "output_type": "stream",
          "name": "stdout",
          "text": [
            "{1, 2, 3, 4, 5, 6}\n"
          ]
        }
      ]
    },
    {
      "cell_type": "code",
      "source": [
        "#intersection\n",
        "x={1,2,3}\n",
        "y={4,5,6,2}\n",
        "z=x.intersection(y)\n",
        "print(z)"
      ],
      "metadata": {
        "colab": {
          "base_uri": "https://localhost:8080/"
        },
        "id": "PyiLvjkNkmn_",
        "outputId": "ebc7d3b5-50ec-4474-abec-88044026a440"
      },
      "execution_count": null,
      "outputs": [
        {
          "output_type": "stream",
          "name": "stdout",
          "text": [
            "{2}\n"
          ]
        }
      ]
    },
    {
      "cell_type": "code",
      "source": [
        "#intersection_update\n",
        "x={1,2,3}\n",
        "y={4,5,6,2}\n",
        "x.intersection_update(y)\n",
        "print(x)\n"
      ],
      "metadata": {
        "colab": {
          "base_uri": "https://localhost:8080/"
        },
        "id": "ISGKgwNhlJEn",
        "outputId": "f62ea66a-8ab3-4e99-b678-a49c19fa1e3c"
      },
      "execution_count": null,
      "outputs": [
        {
          "output_type": "stream",
          "name": "stdout",
          "text": [
            "{2}\n"
          ]
        }
      ]
    },
    {
      "cell_type": "code",
      "source": [
        "#symmetrice_difference_update\n",
        "x={1,2,3}\n",
        "y={4,5,6,2}\n",
        "x.symmetric_difference_update(y)\n",
        "print(x)"
      ],
      "metadata": {
        "colab": {
          "base_uri": "https://localhost:8080/"
        },
        "id": "N7GhOIzelzk_",
        "outputId": "86140969-a7f0-4a0f-d10d-78484602aa03"
      },
      "execution_count": null,
      "outputs": [
        {
          "output_type": "stream",
          "name": "stdout",
          "text": [
            "{1, 3, 4, 5, 6}\n"
          ]
        }
      ]
    },
    {
      "cell_type": "code",
      "source": [
        "#issubset\n",
        "x={1,2,3,4}\n",
        "y={4,5,6,2,1,3}\n",
        "z=x.issubset(y)\n",
        "print(z)"
      ],
      "metadata": {
        "colab": {
          "base_uri": "https://localhost:8080/"
        },
        "id": "aoGmf-7umtue",
        "outputId": "d316f9c5-fe89-45a9-95e8-a8ec2896a268"
      },
      "execution_count": null,
      "outputs": [
        {
          "output_type": "stream",
          "name": "stdout",
          "text": [
            "True\n"
          ]
        }
      ]
    },
    {
      "cell_type": "code",
      "source": [
        "#is dis joint\n",
        "x={1,2,3,4}\n",
        "y={5,6,1}\n",
        "z=x.isdisjoint(y)\n",
        "print(z)"
      ],
      "metadata": {
        "colab": {
          "base_uri": "https://localhost:8080/"
        },
        "id": "L-3ySBwLnS5g",
        "outputId": "28a386d0-bf55-462a-8da2-e55de48059df"
      },
      "execution_count": null,
      "outputs": [
        {
          "output_type": "stream",
          "name": "stdout",
          "text": [
            "False\n"
          ]
        }
      ]
    },
    {
      "cell_type": "markdown",
      "source": [
        "## **Dictionary**"
      ],
      "metadata": {
        "id": "2t_y7Ik7uuJl"
      }
    },
    {
      "cell_type": "code",
      "source": [
        "#dictionary\n",
        "x={\n",
        "    'x':1,\n",
        "    'y':2,\n",
        "    'z':3\n",
        "}\n",
        "print(x)"
      ],
      "metadata": {
        "colab": {
          "base_uri": "https://localhost:8080/"
        },
        "id": "CFFTSvswRYG5",
        "outputId": "18cfb806-c407-499e-8db7-3ab356b4cb89"
      },
      "execution_count": null,
      "outputs": [
        {
          "output_type": "stream",
          "name": "stdout",
          "text": [
            "{'x': 1, 'y': 2, 'z': 3}\n"
          ]
        }
      ]
    },
    {
      "cell_type": "code",
      "source": [
        "#dictionary\n",
        "x={\n",
        "    'x':1,\n",
        "    'y':2,\n",
        "    'z':3\n",
        "}\n",
        "print(x['y'])"
      ],
      "metadata": {
        "colab": {
          "base_uri": "https://localhost:8080/"
        },
        "id": "DoFjQRyrR10y",
        "outputId": "99c3930f-9d48-47d7-c419-369ecb8a0915"
      },
      "execution_count": null,
      "outputs": [
        {
          "output_type": "stream",
          "name": "stdout",
          "text": [
            "2\n"
          ]
        }
      ]
    },
    {
      "cell_type": "code",
      "source": [
        "#dictionary\n",
        "x={\n",
        "    'x':1,\n",
        "    'y':2,\n",
        "    'z':3\n",
        "}\n",
        "print(x.get('y'))"
      ],
      "metadata": {
        "colab": {
          "base_uri": "https://localhost:8080/"
        },
        "id": "tP8MrX_rR9IB",
        "outputId": "137818f2-a777-42b9-afb2-f1abed02d7ab"
      },
      "execution_count": null,
      "outputs": [
        {
          "output_type": "stream",
          "name": "stdout",
          "text": [
            "2\n"
          ]
        }
      ]
    },
    {
      "cell_type": "code",
      "source": [
        "#dictionary\n",
        "x={\n",
        "    'x':1,\n",
        "    'y':2,\n",
        "    'z':3\n",
        "}\n",
        "print(x.keys())"
      ],
      "metadata": {
        "colab": {
          "base_uri": "https://localhost:8080/"
        },
        "id": "gs_Vg_dPSLhg",
        "outputId": "cc9ae9d4-99e7-4f81-fedc-ab26df814016"
      },
      "execution_count": null,
      "outputs": [
        {
          "output_type": "stream",
          "name": "stdout",
          "text": [
            "dict_keys(['x', 'y', 'z'])\n"
          ]
        }
      ]
    },
    {
      "cell_type": "code",
      "source": [
        "#dictionary\n",
        "x={\n",
        "    'x':1,\n",
        "    'y':2,\n",
        "    'z':3\n",
        "}\n",
        "print(x.values())"
      ],
      "metadata": {
        "colab": {
          "base_uri": "https://localhost:8080/"
        },
        "id": "rD8uIsUxSrpC",
        "outputId": "17528590-fa64-476b-a7d9-449a052ccc7d"
      },
      "execution_count": null,
      "outputs": [
        {
          "output_type": "stream",
          "name": "stdout",
          "text": [
            "dict_values([1, 2, 3])\n"
          ]
        }
      ]
    },
    {
      "cell_type": "code",
      "source": [
        "#dictionary\n",
        "x={\n",
        "    'x':1,\n",
        "    'y':2,\n",
        "    'z':3\n",
        "}\n",
        "print(x.items())"
      ],
      "metadata": {
        "colab": {
          "base_uri": "https://localhost:8080/"
        },
        "id": "VogisNajSxF4",
        "outputId": "02cedf66-e405-4ced-dfee-17309ef9f951"
      },
      "execution_count": null,
      "outputs": [
        {
          "output_type": "stream",
          "name": "stdout",
          "text": [
            "dict_items([('x', 1), ('y', 2), ('z', 3)])\n"
          ]
        }
      ]
    },
    {
      "cell_type": "code",
      "source": [
        "#Add\n",
        "x={\n",
        "    'x':1,\n",
        "    'y':2,\n",
        "    'z':3\n",
        "}\n",
        "x['c']=5\n",
        "print(x)\n"
      ],
      "metadata": {
        "colab": {
          "base_uri": "https://localhost:8080/"
        },
        "id": "nBTR8XADS6NI",
        "outputId": "ccf873f9-430e-42b4-bc13-ef19e2c1b684"
      },
      "execution_count": null,
      "outputs": [
        {
          "output_type": "stream",
          "name": "stdout",
          "text": [
            "{'x': 1, 'y': 2, 'z': 3, 'c': 5}\n"
          ]
        }
      ]
    },
    {
      "cell_type": "code",
      "source": [
        "#update\n",
        "x={\n",
        "    'x':1,\n",
        "    'y':2,\n",
        "    'z':3\n",
        "}\n",
        "x.update({'y':5})\n",
        "print(x)\n",
        "\n",
        "x={\n",
        "    'x':1,\n",
        "    'y':2,\n",
        "    'z':3\n",
        "}\n",
        "x['x']=5\n",
        "print(x)"
      ],
      "metadata": {
        "colab": {
          "base_uri": "https://localhost:8080/"
        },
        "id": "ReLDCmhhTPcJ",
        "outputId": "e88e37d0-1dfc-4826-8763-2cd742d77ee2"
      },
      "execution_count": null,
      "outputs": [
        {
          "output_type": "stream",
          "name": "stdout",
          "text": [
            "{'x': 1, 'y': 5, 'z': 3}\n",
            "{'x': 5, 'y': 2, 'z': 3}\n"
          ]
        }
      ]
    },
    {
      "cell_type": "code",
      "source": [
        "#pop\n",
        "x={\n",
        "    'x':1,\n",
        "    'y':2,\n",
        "    'z':3\n",
        "}\n",
        "x.pop('y')\n",
        "print(x)"
      ],
      "metadata": {
        "colab": {
          "base_uri": "https://localhost:8080/"
        },
        "id": "--HBgROYUJNh",
        "outputId": "20b1fca7-b980-49c7-a51e-fe1351d14aad"
      },
      "execution_count": null,
      "outputs": [
        {
          "output_type": "stream",
          "name": "stdout",
          "text": [
            "{'x': 1, 'z': 3}\n"
          ]
        }
      ]
    },
    {
      "cell_type": "code",
      "source": [
        "#popitem\n",
        "x={\n",
        "    'x':1,\n",
        "    'y':2,\n",
        "    'z':3\n",
        "}\n",
        "x.popitem()\n",
        "print(x)"
      ],
      "metadata": {
        "colab": {
          "base_uri": "https://localhost:8080/"
        },
        "id": "HeIYWmaiUinA",
        "outputId": "001b7eae-7a8b-4431-d61e-818c573f03f6"
      },
      "execution_count": null,
      "outputs": [
        {
          "output_type": "stream",
          "name": "stdout",
          "text": [
            "{'x': 1, 'y': 2}\n"
          ]
        }
      ]
    },
    {
      "cell_type": "code",
      "source": [
        "#delete\n",
        "x={\n",
        "    'x':1,\n",
        "    'y':2,\n",
        "    'z':3\n",
        "}\n",
        "del x['y']\n",
        "print(x)"
      ],
      "metadata": {
        "colab": {
          "base_uri": "https://localhost:8080/"
        },
        "id": "Q73NNQjHUtow",
        "outputId": "5d23444a-81f5-4568-f259-07dc80876a99"
      },
      "execution_count": null,
      "outputs": [
        {
          "output_type": "stream",
          "name": "stdout",
          "text": [
            "{'x': 1, 'z': 3}\n"
          ]
        }
      ]
    },
    {
      "cell_type": "code",
      "source": [
        "#clear\n",
        "x={\n",
        "    'x':1,\n",
        "    'y':2,\n",
        "    'z':3\n",
        "}\n",
        "x.clear()\n",
        "print(x)"
      ],
      "metadata": {
        "colab": {
          "base_uri": "https://localhost:8080/"
        },
        "id": "1pauy-TFVbZi",
        "outputId": "97accb06-e7d9-4566-a7f3-e7e72f9b0253"
      },
      "execution_count": null,
      "outputs": [
        {
          "output_type": "stream",
          "name": "stdout",
          "text": [
            "{}\n"
          ]
        }
      ]
    },
    {
      "cell_type": "code",
      "source": [
        "#copy\n",
        "x={\n",
        "    'x':1,\n",
        "    'y':2,\n",
        "    'z':3\n",
        "}\n",
        "y=x.copy()\n",
        "print(y)"
      ],
      "metadata": {
        "colab": {
          "base_uri": "https://localhost:8080/"
        },
        "id": "g6tBHgl-Ve_o",
        "outputId": "1c1df4e3-1922-48e6-b5ec-546777cbea27"
      },
      "execution_count": null,
      "outputs": [
        {
          "output_type": "stream",
          "name": "stdout",
          "text": [
            "{'x': 1, 'y': 2, 'z': 3}\n"
          ]
        }
      ]
    },
    {
      "cell_type": "code",
      "source": [
        "#nested dictionary\n",
        "x={\n",
        "    'x':{'Alwaleed':1,'ali':3},\n",
        "    'y':{'Alwaleed':2}\n",
        "\n",
        "}\n",
        "print(x)\n",
        "print(x['x'])\n",
        "print(x['x']['Alwaleed'])\n",
        "print(x['x']['ali'])"
      ],
      "metadata": {
        "colab": {
          "base_uri": "https://localhost:8080/"
        },
        "id": "83lcCHD-V8KA",
        "outputId": "eafae138-30e0-4ac4-b043-d7de3997cde6"
      },
      "execution_count": null,
      "outputs": [
        {
          "output_type": "stream",
          "name": "stdout",
          "text": [
            "{'x': {'Alwaleed': 1, 'ali': 3}, 'y': {'Alwaleed': 2}}\n",
            "{'Alwaleed': 1, 'ali': 3}\n",
            "1\n",
            "3\n"
          ]
        }
      ]
    },
    {
      "cell_type": "code",
      "source": [
        "#nested dictionary\n",
        "x={\n",
        "    'x':[1,2,3,4],\n",
        "    'y':{'Alwaleed':2}\n",
        "\n",
        "}\n",
        "print(x)\n",
        "print(x['x'])\n",
        "print(x['x'][2])\n",
        "print(x['y']['Alwaleed'])\n"
      ],
      "metadata": {
        "colab": {
          "base_uri": "https://localhost:8080/"
        },
        "id": "mEcYrqJKXXAB",
        "outputId": "12e7312c-6976-4026-e5c2-8cb19a96e997"
      },
      "execution_count": null,
      "outputs": [
        {
          "output_type": "stream",
          "name": "stdout",
          "text": [
            "{'x': [1, 2, 3, 4], 'y': {'Alwaleed': 2}}\n",
            "[1, 2, 3, 4]\n",
            "3\n",
            "2\n"
          ]
        }
      ]
    },
    {
      "cell_type": "code",
      "source": [
        "#nested list\n",
        "x=[{'a':1,'b':2},{'c':3,'d':4},{'z':3,'f':4}]\n",
        "print(x)\n",
        "print(x[0])\n",
        "print(x[0]['a'])"
      ],
      "metadata": {
        "colab": {
          "base_uri": "https://localhost:8080/"
        },
        "id": "SAwJcpSQYCHh",
        "outputId": "6d5e4ed2-0f19-4b15-ae2b-4bd83e8b6e48"
      },
      "execution_count": null,
      "outputs": [
        {
          "output_type": "stream",
          "name": "stdout",
          "text": [
            "[{'a': 1, 'b': 2}, {'c': 3, 'd': 4}, {'z': 3, 'f': 4}]\n",
            "{'a': 1, 'b': 2}\n",
            "1\n"
          ]
        }
      ]
    },
    {
      "cell_type": "markdown",
      "source": [
        "## **Condition:IF**"
      ],
      "metadata": {
        "id": "1RmjEdYPZlg_"
      }
    },
    {
      "cell_type": "code",
      "source": [
        "#equals : a==b\n",
        "#not equal : a!=b\n",
        "#less than : a<b\n",
        "#greater than : a>b\n",
        "#greater than or equal : a>=b\n",
        "#less than or equal : a<=b\n",
        "\n"
      ],
      "metadata": {
        "id": "xQ8XdQtUZsBe"
      },
      "execution_count": null,
      "outputs": []
    },
    {
      "cell_type": "code",
      "source": [
        "#if\n",
        "a=4\n",
        "b=6\n",
        "if a>b :\n",
        "  print(a)\n",
        "print('aaa')\n"
      ],
      "metadata": {
        "colab": {
          "base_uri": "https://localhost:8080/"
        },
        "id": "4FP9FgLxabRH",
        "outputId": "0af75d0e-40ed-4aab-9b66-806d5261d229"
      },
      "execution_count": null,
      "outputs": [
        {
          "output_type": "stream",
          "name": "stdout",
          "text": [
            "aaa\n"
          ]
        }
      ]
    },
    {
      "cell_type": "code",
      "source": [
        "#els if\n",
        "a=10\n",
        "b=6\n",
        "if a>b :\n",
        "  print(a)\n",
        "elif b>a :\n",
        "    print(b)\n"
      ],
      "metadata": {
        "colab": {
          "base_uri": "https://localhost:8080/"
        },
        "id": "sW8l3EDlbxTQ",
        "outputId": "87bc8376-8b3e-423d-8afe-fa150bffc3da"
      },
      "execution_count": null,
      "outputs": [
        {
          "output_type": "stream",
          "name": "stdout",
          "text": [
            "10\n"
          ]
        }
      ]
    },
    {
      "cell_type": "code",
      "source": [
        "#else\n",
        "a=6\n",
        "b=6\n",
        "if a>b :\n",
        "  print(a)\n",
        "elif b>a :\n",
        "    print(b)\n",
        "else :\n",
        "  print('aaa')"
      ],
      "metadata": {
        "colab": {
          "base_uri": "https://localhost:8080/"
        },
        "id": "b6iabcQhdNr3",
        "outputId": "b5b50026-7ac6-41f0-f7e7-a58ec5e7df4e"
      },
      "execution_count": null,
      "outputs": [
        {
          "output_type": "stream",
          "name": "stdout",
          "text": [
            "aaa\n"
          ]
        }
      ]
    },
    {
      "cell_type": "code",
      "source": [
        "#short hand if\n",
        "a = 4\n",
        "b= 6\n",
        "print(a) if a>b else print(b)"
      ],
      "metadata": {
        "colab": {
          "base_uri": "https://localhost:8080/"
        },
        "id": "s4Biatrade-Z",
        "outputId": "d597c00d-2734-4972-9c3c-58cb0287db22"
      },
      "execution_count": null,
      "outputs": [
        {
          "output_type": "stream",
          "name": "stdout",
          "text": [
            "6\n"
          ]
        }
      ]
    },
    {
      "cell_type": "code",
      "source": [],
      "metadata": {
        "colab": {
          "base_uri": "https://localhost:8080/"
        },
        "id": "VjI-u5WYd1RG",
        "outputId": "51e00607-465a-49da-df48-3b276741640c"
      },
      "execution_count": null,
      "outputs": [
        {
          "output_type": "stream",
          "name": "stdout",
          "text": [
            "6\n"
          ]
        }
      ]
    },
    {
      "cell_type": "markdown",
      "source": [],
      "metadata": {
        "id": "ALsxX64Weaq-"
      }
    },
    {
      "cell_type": "markdown",
      "source": [
        "## **While**"
      ],
      "metadata": {
        "id": "iu1apc3Uec2G"
      }
    },
    {
      "cell_type": "code",
      "source": [
        "#while\n",
        "i=1\n",
        "while i<6 :\n",
        "  print(i)\n",
        "  i+=1"
      ],
      "metadata": {
        "colab": {
          "base_uri": "https://localhost:8080/"
        },
        "id": "GUEe009xepyu",
        "outputId": "087296cb-1a1a-431f-9e80-2a1cf7737db6"
      },
      "execution_count": null,
      "outputs": [
        {
          "output_type": "stream",
          "name": "stdout",
          "text": [
            "1\n",
            "2\n",
            "3\n",
            "4\n",
            "5\n"
          ]
        }
      ]
    },
    {
      "cell_type": "code",
      "source": [
        "#break statment\n",
        "i= 0\n",
        "while i<6 :\n",
        "    i+=1\n",
        "    print(i)\n",
        "    if i==3:\n",
        "     break\n"
      ],
      "metadata": {
        "colab": {
          "base_uri": "https://localhost:8080/"
        },
        "id": "KKt_9iXDfdFW",
        "outputId": "54e1dd80-996b-4994-eade-403f5b5493a5"
      },
      "execution_count": null,
      "outputs": [
        {
          "output_type": "stream",
          "name": "stdout",
          "text": [
            "1\n",
            "2\n",
            "3\n"
          ]
        }
      ]
    },
    {
      "cell_type": "code",
      "source": [
        "#continue statment\n",
        "i= 0\n",
        "while i<6 :\n",
        "  i+=1\n",
        "  if i==3:\n",
        "    continue\n",
        "  print(i)\n"
      ],
      "metadata": {
        "colab": {
          "base_uri": "https://localhost:8080/"
        },
        "id": "yRn6l_4ofHsX",
        "outputId": "ae6be928-9e23-49e6-b484-21666da9135c"
      },
      "execution_count": null,
      "outputs": [
        {
          "output_type": "stream",
          "name": "stdout",
          "text": [
            "1\n",
            "2\n",
            "4\n",
            "5\n",
            "6\n"
          ]
        }
      ]
    },
    {
      "cell_type": "markdown",
      "source": [
        "## **For loop**"
      ],
      "metadata": {
        "id": "73RnNR6klpep"
      }
    },
    {
      "cell_type": "code",
      "source": [
        "x=['a','b','c']\n",
        "for i in x:\n",
        "  print(i)"
      ],
      "metadata": {
        "colab": {
          "base_uri": "https://localhost:8080/"
        },
        "id": "oLM9vcOel1zj",
        "outputId": "4e94d3be-8731-4e3b-c838-717efa7f8a78"
      },
      "execution_count": null,
      "outputs": [
        {
          "output_type": "stream",
          "name": "stdout",
          "text": [
            "a\n",
            "b\n",
            "c\n"
          ]
        }
      ]
    },
    {
      "cell_type": "code",
      "source": [
        "for i in 'alwaleed':\n",
        "  print(i)"
      ],
      "metadata": {
        "colab": {
          "base_uri": "https://localhost:8080/"
        },
        "id": "8HO8IqjiodKY",
        "outputId": "2e3297c4-ca2d-4067-8789-5ca0db39df59"
      },
      "execution_count": null,
      "outputs": [
        {
          "output_type": "stream",
          "name": "stdout",
          "text": [
            "a\n",
            "l\n",
            "w\n",
            "a\n",
            "l\n",
            "e\n",
            "e\n",
            "d\n"
          ]
        }
      ]
    },
    {
      "cell_type": "code",
      "source": [
        "for i in range(0,6):\n",
        "  print(i)\n"
      ],
      "metadata": {
        "colab": {
          "base_uri": "https://localhost:8080/"
        },
        "id": "2xNKTpfKoj54",
        "outputId": "431e18f2-6a56-4bed-e6cf-585fae881dd9"
      },
      "execution_count": null,
      "outputs": [
        {
          "output_type": "stream",
          "name": "stdout",
          "text": [
            "0\n",
            "2\n",
            "4\n"
          ]
        }
      ]
    },
    {
      "cell_type": "code",
      "source": [
        "for x in range(0,6):\n",
        "  print(x)\n",
        "else :\n",
        "  print('end')\n"
      ],
      "metadata": {
        "colab": {
          "base_uri": "https://localhost:8080/"
        },
        "id": "cIpG81UBoqmv",
        "outputId": "591cf8cc-260b-46c2-a50b-ab8681f6a7d3"
      },
      "execution_count": null,
      "outputs": [
        {
          "output_type": "stream",
          "name": "stdout",
          "text": [
            "0\n",
            "1\n",
            "2\n",
            "3\n",
            "4\n",
            "5\n",
            "end\n"
          ]
        }
      ]
    },
    {
      "cell_type": "code",
      "source": [
        "#nested loop\n",
        "x=['a','b','c']\n",
        "y=[1,2,3]\n",
        "for i in x:\n",
        "  for z in y:\n",
        "    print(i,z)"
      ],
      "metadata": {
        "colab": {
          "base_uri": "https://localhost:8080/"
        },
        "id": "xqk4MRqcpLuZ",
        "outputId": "59bcff4b-b5a5-4403-df53-5f8929eb06a1"
      },
      "execution_count": null,
      "outputs": [
        {
          "output_type": "stream",
          "name": "stdout",
          "text": [
            "a 1\n",
            "a 2\n",
            "a 3\n",
            "b 1\n",
            "b 2\n",
            "b 3\n",
            "c 1\n",
            "c 2\n",
            "c 3\n"
          ]
        }
      ]
    },
    {
      "cell_type": "markdown",
      "source": [
        "## **Function**"
      ],
      "metadata": {
        "id": "n81VYJHtqg93"
      }
    },
    {
      "cell_type": "code",
      "source": [
        "def alwaleed():\n",
        "  print('Alwaleed')\n",
        "alwaleed()\n"
      ],
      "metadata": {
        "colab": {
          "base_uri": "https://localhost:8080/"
        },
        "id": "b-4n-Vvrqnv-",
        "outputId": "88a318b0-34c6-4029-932b-948bb2fe404f"
      },
      "execution_count": null,
      "outputs": [
        {
          "output_type": "stream",
          "name": "stdout",
          "text": [
            "Alwaleed\n"
          ]
        }
      ]
    },
    {
      "cell_type": "code",
      "source": [
        "def f(name):\n",
        "  print(name + ' fname')\n",
        "\n",
        "f('alwaleed')"
      ],
      "metadata": {
        "colab": {
          "base_uri": "https://localhost:8080/"
        },
        "id": "Z3Ryl90_tQ7Q",
        "outputId": "a7f45bf4-caed-4283-dcc9-ab78b909feba"
      },
      "execution_count": null,
      "outputs": [
        {
          "output_type": "stream",
          "name": "stdout",
          "text": [
            "alwaleed fname\n"
          ]
        }
      ]
    },
    {
      "cell_type": "code",
      "source": [
        "def f(fname,lname):\n",
        "  print(fname +' '+lname)\n",
        "\n",
        "f('alwaleed','Khaled')"
      ],
      "metadata": {
        "colab": {
          "base_uri": "https://localhost:8080/"
        },
        "id": "twPWhrwdt_xA",
        "outputId": "1b2d2238-7369-4941-badd-7db554cf5066"
      },
      "execution_count": null,
      "outputs": [
        {
          "output_type": "stream",
          "name": "stdout",
          "text": [
            "alwaleed Khaled\n"
          ]
        }
      ]
    },
    {
      "cell_type": "code",
      "source": [
        "#args\n",
        "def f(*t):\n",
        "  print(t)\n",
        "\n",
        "f('alwaleed','Khaled')"
      ],
      "metadata": {
        "colab": {
          "base_uri": "https://localhost:8080/"
        },
        "id": "mxeCA90XuTUA",
        "outputId": "669f0dcd-1cba-4469-c0f8-0a47551e648a"
      },
      "execution_count": null,
      "outputs": [
        {
          "output_type": "stream",
          "name": "stdout",
          "text": [
            "('alwaleed', 'Khaled')\n"
          ]
        }
      ]
    },
    {
      "cell_type": "code",
      "source": [
        "def f(x,y,z):\n",
        "  print(x)\n",
        "f(z='ali',x='alaa',y='moh')"
      ],
      "metadata": {
        "colab": {
          "base_uri": "https://localhost:8080/"
        },
        "id": "hq_gqUalugBg",
        "outputId": "679b22ef-42d5-498d-a768-82ec080ecae4"
      },
      "execution_count": null,
      "outputs": [
        {
          "output_type": "stream",
          "name": "stdout",
          "text": [
            "alaa\n"
          ]
        }
      ]
    },
    {
      "cell_type": "code",
      "source": [
        "def f(**t):\n",
        "  print(t)\n",
        "f(z='ali',x='alaa',y='moh')"
      ],
      "metadata": {
        "colab": {
          "base_uri": "https://localhost:8080/"
        },
        "id": "fssJWgKSvHKA",
        "outputId": "3cc57d82-3e90-4a99-9bee-e1f3946154a6"
      },
      "execution_count": null,
      "outputs": [
        {
          "output_type": "stream",
          "name": "stdout",
          "text": [
            "{'z': 'ali', 'x': 'alaa', 'y': 'moh'}\n"
          ]
        }
      ]
    },
    {
      "cell_type": "code",
      "source": [
        "#return\n",
        "def f(x):\n",
        "  return 5*x\n",
        "f(5)"
      ],
      "metadata": {
        "colab": {
          "base_uri": "https://localhost:8080/"
        },
        "id": "JsjLVq9GwABI",
        "outputId": "0a3deed3-5e74-4132-ac80-220226c08e00"
      },
      "execution_count": null,
      "outputs": [
        {
          "output_type": "execute_result",
          "data": {
            "text/plain": [
              "25"
            ]
          },
          "metadata": {},
          "execution_count": 137
        }
      ]
    },
    {
      "cell_type": "code",
      "source": [
        "#recursion\n",
        "def f(n):\n",
        "  print(n)\n",
        "  if n==0:\n",
        "     return\n",
        "  f(n-1)\n",
        "  print(n)\n",
        "\n",
        "\n",
        "f(5)"
      ],
      "metadata": {
        "colab": {
          "base_uri": "https://localhost:8080/"
        },
        "id": "FZjmwCD9xyIY",
        "outputId": "d7f61bd7-be08-4c13-b844-d713c76fb53a"
      },
      "execution_count": null,
      "outputs": [
        {
          "output_type": "stream",
          "name": "stdout",
          "text": [
            "5\n",
            "4\n",
            "3\n",
            "2\n",
            "1\n",
            "0\n",
            "1\n",
            "2\n",
            "3\n",
            "4\n",
            "5\n"
          ]
        }
      ]
    },
    {
      "cell_type": "code",
      "source": [
        "#recursion\n",
        "def f(n):\n",
        "\n",
        "  if n==0:\n",
        "     return\n",
        "  f(n-1)\n",
        "  print(n)\n",
        "\n",
        "\n",
        "f(5)"
      ],
      "metadata": {
        "colab": {
          "base_uri": "https://localhost:8080/"
        },
        "id": "F0M6Qzmb0Xs-",
        "outputId": "bcd54e23-8e6b-4f94-8324-708dbf2d1967"
      },
      "execution_count": null,
      "outputs": [
        {
          "output_type": "stream",
          "name": "stdout",
          "text": [
            "1\n",
            "2\n",
            "3\n",
            "4\n",
            "5\n"
          ]
        }
      ]
    },
    {
      "cell_type": "code",
      "source": [
        "#recursion\n",
        "def f(n):\n",
        "\n",
        "  if n==0:\n",
        "     return 1\n",
        "  return f(n-1)*n\n",
        "\n",
        "\n",
        "print(f(5))"
      ],
      "metadata": {
        "colab": {
          "base_uri": "https://localhost:8080/"
        },
        "id": "21M8o60zOJSY",
        "outputId": "6c848c82-3d54-4881-a55c-72b8baa56578"
      },
      "execution_count": null,
      "outputs": [
        {
          "output_type": "stream",
          "name": "stdout",
          "text": [
            "120\n"
          ]
        }
      ]
    },
    {
      "cell_type": "code",
      "source": [
        "#lambda\n",
        "x=lambda a:a+10\n",
        "print(x(5))\n",
        "\n"
      ],
      "metadata": {
        "colab": {
          "base_uri": "https://localhost:8080/"
        },
        "id": "hcNiNABd0l6E",
        "outputId": "caf3e042-afe6-4dce-c398-453a72e44f1c"
      },
      "execution_count": null,
      "outputs": [
        {
          "output_type": "stream",
          "name": "stdout",
          "text": [
            "15\n"
          ]
        }
      ]
    },
    {
      "cell_type": "code",
      "source": [
        "def factorial(n):\n",
        "    result = 1\n",
        "    for i in range(1, n + 1):\n",
        "        result *= i\n",
        "    return result\n",
        "\n",
        "print(factorial(5))"
      ],
      "metadata": {
        "colab": {
          "base_uri": "https://localhost:8080/"
        },
        "id": "IbhwEhX7AerK",
        "outputId": "16c2ca1d-1ba0-441b-cd9a-627260f9da87"
      },
      "execution_count": null,
      "outputs": [
        {
          "output_type": "stream",
          "name": "stdout",
          "text": [
            "120\n"
          ]
        }
      ]
    },
    {
      "cell_type": "markdown",
      "source": [
        "## **Class**"
      ],
      "metadata": {
        "id": "-uzyOpzRgITs"
      }
    },
    {
      "cell_type": "code",
      "source": [
        "class alwaleed:\n",
        "  x=5\n",
        "\n",
        "a=alwaleed()\n",
        "print(a.x)"
      ],
      "metadata": {
        "colab": {
          "base_uri": "https://localhost:8080/"
        },
        "id": "6uyoYcuDpnDE",
        "outputId": "7b6daed8-7c5e-4241-c726-1fe3a500b54a"
      },
      "execution_count": null,
      "outputs": [
        {
          "output_type": "stream",
          "name": "stdout",
          "text": [
            "5\n"
          ]
        }
      ]
    },
    {
      "cell_type": "code",
      "source": [
        "class alwaleed:\n",
        "  def __init__(self, d):\n",
        "    self.d=d\n",
        "    self.x=5\n",
        "    self.f=self.x + self.d\n",
        "\n",
        "#main code\n",
        "a=alwaleed(4)\n",
        "print(a.f)"
      ],
      "metadata": {
        "colab": {
          "base_uri": "https://localhost:8080/"
        },
        "id": "gDl3ZYbxqEnD",
        "outputId": "2efe4f69-f9e1-4695-9087-16bed81cb8b4"
      },
      "execution_count": null,
      "outputs": [
        {
          "output_type": "stream",
          "name": "stdout",
          "text": [
            "9\n"
          ]
        }
      ]
    },
    {
      "cell_type": "code",
      "source": [
        "class alwaleed:\n",
        "  def sum(self,x,y):\n",
        "    print(x+y)\n",
        "\n",
        "a=alwaleed()\n",
        "a.sum(3,4)"
      ],
      "metadata": {
        "colab": {
          "base_uri": "https://localhost:8080/"
        },
        "id": "zsuiB1Lyqkwb",
        "outputId": "c422a9fc-01c5-4fa6-c0cb-2300e7863017"
      },
      "execution_count": null,
      "outputs": [
        {
          "output_type": "stream",
          "name": "stdout",
          "text": [
            "7\n"
          ]
        }
      ]
    },
    {
      "cell_type": "code",
      "source": [
        "class alwaleed:\n",
        "  @classmethod\n",
        "  def sum(cls,x,y):\n",
        "    print(x+y)\n",
        "\n",
        "alwaleed.sum(3,4)"
      ],
      "metadata": {
        "colab": {
          "base_uri": "https://localhost:8080/"
        },
        "id": "JvSgfoRgrDVL",
        "outputId": "aa7a1b20-e193-4c21-b97c-3a4ff2dc86d3"
      },
      "execution_count": null,
      "outputs": [
        {
          "output_type": "stream",
          "name": "stdout",
          "text": [
            "7\n"
          ]
        }
      ]
    },
    {
      "cell_type": "code",
      "source": [
        "class alwaleed:\n",
        "  @staticmethod\n",
        "  def sum(x,y):\n",
        "    print(x+y)\n",
        "\n",
        "alwaleed.sum(3,4)"
      ],
      "metadata": {
        "colab": {
          "base_uri": "https://localhost:8080/"
        },
        "id": "uPYZOV-OrPa7",
        "outputId": "9d61904c-68a9-4672-875a-2dbd2b6121d9"
      },
      "execution_count": null,
      "outputs": [
        {
          "output_type": "stream",
          "name": "stdout",
          "text": [
            "7\n"
          ]
        }
      ]
    },
    {
      "cell_type": "code",
      "source": [
        "class person:\n",
        "  def __init__(self,fn,ln):\n",
        "    self.fn=fn\n",
        "    self.ln=ln\n",
        "    print(self.fn,self.ln)\n",
        "\n",
        "  def printname(self):\n",
        "    print(self.fn,self.ln)\n",
        "\n",
        "class student(person):\n",
        "  pass\n",
        "\n",
        "x=student('alwaleed','khaled')\n",
        "print(x.ln)\n",
        "x.printname()\n"
      ],
      "metadata": {
        "colab": {
          "base_uri": "https://localhost:8080/"
        },
        "id": "nLqpmfCUgNkO",
        "outputId": "ece527a3-2c29-4254-98ae-36f61165bbf8"
      },
      "execution_count": null,
      "outputs": [
        {
          "output_type": "stream",
          "name": "stdout",
          "text": [
            "alwaleed khaled\n",
            "alwaleed khaled\n",
            "khaled\n"
          ]
        }
      ]
    },
    {
      "cell_type": "code",
      "source": [
        "class person:\n",
        "  def __init__(self,fn,ln):\n",
        "    self.fn=fn\n",
        "    self.ln=ln\n",
        "    print(self.fn,self.ln)\n",
        "\n",
        "\n",
        "\n",
        "class student(person):\n",
        "  pass\n",
        "\n",
        "x=student('alwaleed','khaled')\n"
      ],
      "metadata": {
        "colab": {
          "base_uri": "https://localhost:8080/"
        },
        "id": "_ySQRjplnmGN",
        "outputId": "383a00ef-b368-4f04-98b9-a904ae338006"
      },
      "execution_count": null,
      "outputs": [
        {
          "output_type": "stream",
          "name": "stdout",
          "text": [
            "alwaleed khaled\n"
          ]
        }
      ]
    },
    {
      "cell_type": "code",
      "source": [
        "#polymorphism\n",
        "class vehicle:\n",
        "  def __init__(self,name,color,price):\n",
        "    self.name=name\n",
        "    self.color=color\n",
        "    self.price=price\n",
        "  def move(self):\n",
        "    print(\"vehicle is moving\")\n",
        "  def info(self):\n",
        "    print(f\"Name:{self.name},color:{self.color},price:{self.price}\")\n",
        "\n",
        "class car(vehicle):\n",
        "  def move(self):\n",
        "    print(\"car is moving\")\n",
        "class boat(vehicle):\n",
        "  def move(self):\n",
        "    print(\"boat is moving\")\n",
        "class plane(vehicle):\n",
        "  def move(self):\n",
        "    print(\"plane is moving\")\n",
        "\n",
        "car = car(\"car\", \"red\", 20000)\n",
        "boat = boat(\"boat\", \"blue\", 10000)\n",
        "plane = plane(\"plane\", \"white\", 50000)\n",
        "\n",
        "car.move()\n",
        "car.info()\n",
        "\n",
        "boat.move()\n",
        "boat.info()\n",
        "\n",
        "plane.move()\n",
        "plane.info()\n"
      ],
      "metadata": {
        "colab": {
          "base_uri": "https://localhost:8080/"
        },
        "id": "HFY_bOcYt38L",
        "outputId": "7dd8e02e-3e91-42bd-8247-99bfbb286765"
      },
      "execution_count": null,
      "outputs": [
        {
          "output_type": "stream",
          "name": "stdout",
          "text": [
            "car is moving\n",
            "Name:car,color:red,price:20000\n",
            "boat is moving\n",
            "Name:boat,color:blue,price:10000\n",
            "plane is moving\n",
            "Name:plane,color:white,price:50000\n"
          ]
        }
      ]
    },
    {
      "cell_type": "code",
      "source": [
        "#abstraction\n",
        "from abc import ABC,abstractmethod\n",
        "class vehicle:\n",
        "  def __init__(self,name):\n",
        "    self.name=name\n",
        "  @abstractmethod\n",
        "  def move(self):\n",
        "    print(\"vehicle is moving\")\n",
        "  def info(self):\n",
        "    print(f\"Name:{self.name}\")\n",
        "\n",
        "class car(vehicle):\n",
        "  def move(self):\n",
        "    print(\"car is moving\")\n",
        "class boat(vehicle):\n",
        "  def move(self):\n",
        "    print(\"boat is moving\")\n",
        "class plane(vehicle):\n",
        "  def move(self):\n",
        "    print(\"plane is moving\")\n",
        "\n",
        "car = car(\"car\")\n",
        "boat = boat(\"boat\")\n",
        "plane = plane(\"plane\")\n",
        "\n",
        "car.move()\n",
        "car.info()\n"
      ],
      "metadata": {
        "colab": {
          "base_uri": "https://localhost:8080/"
        },
        "id": "2SriinhMw_Gt",
        "outputId": "543de82e-2e25-4536-ed12-96325e710b0b"
      },
      "execution_count": null,
      "outputs": [
        {
          "output_type": "stream",
          "name": "stdout",
          "text": [
            "car is moving\n",
            "Name:car\n",
            "boat is moving\n",
            "Name:boat\n",
            "plane is moving\n",
            "Name:plane\n"
          ]
        }
      ]
    },
    {
      "cell_type": "markdown",
      "source": [
        "## **Json**"
      ],
      "metadata": {
        "id": "JE6s1QiM9ZUW"
      }
    },
    {
      "cell_type": "code",
      "source": [
        "#convert json to python\n",
        "import json\n",
        "json_data='{\"name\":\"alwaleed\",\"age\":20}'\n",
        "phthon_dick=json.loads(json_data)\n",
        "print(phthon_dick)"
      ],
      "metadata": {
        "colab": {
          "base_uri": "https://localhost:8080/"
        },
        "id": "dBa1n0SR9lE-",
        "outputId": "67688771-97da-4b39-88f1-471b365a7993"
      },
      "execution_count": null,
      "outputs": [
        {
          "output_type": "stream",
          "name": "stdout",
          "text": [
            "{'name': 'alwaleed', 'age': 20}\n"
          ]
        }
      ]
    },
    {
      "cell_type": "code",
      "source": [
        "#convert python to json\n",
        "data={\n",
        "    \"name\":\"alwaleed\",\n",
        "    \"age\":20,\n",
        "    \"city\":\"amman\"\n",
        "}\n",
        "json_string=json.dumps(data)\n",
        "print(json_string)\n"
      ],
      "metadata": {
        "colab": {
          "base_uri": "https://localhost:8080/"
        },
        "id": "IV5m9WSf92P6",
        "outputId": "37428e3a-be7d-47a1-ecce-3d6d5408eced"
      },
      "execution_count": null,
      "outputs": [
        {
          "output_type": "stream",
          "name": "stdout",
          "text": [
            "{\"name\": \"alwaleed\", \"age\": 20, \"city\": \"amman\"}\n"
          ]
        }
      ]
    },
    {
      "cell_type": "markdown",
      "source": [
        "## **NumPy**"
      ],
      "metadata": {
        "id": "CvYxNduEAyk-"
      }
    },
    {
      "cell_type": "code",
      "source": [
        "import numpy as np\n",
        "x=np.array(4)\n",
        "y=np.array([1,2,3,4])\n",
        "z=np.array([[1,2,3],[4,5,6]])\n",
        "cc=np.array(\n",
        "    [\n",
        "        [\n",
        "          [1,2,3],\n",
        "          [4,5,6]\n",
        "                  ],\n",
        "         [\n",
        "          [1,2,3],\n",
        "          [4,5,6]\n",
        "                  ]\n",
        "        ]\n",
        "    )\n",
        "print(x)\n",
        "print(y)\n",
        "print(z)\n",
        "print(cc)\n",
        "print(x.ndim)\n",
        "print(y.ndim)\n",
        "print(z.ndim)\n",
        "print(cc.ndim)\n",
        "\n",
        "print(x)\n",
        "print(y[0])\n",
        "print(z[0,1])\n",
        "print(cc[0,1,2])"
      ],
      "metadata": {
        "colab": {
          "base_uri": "https://localhost:8080/"
        },
        "id": "Jk3Hqc_JA4AW",
        "outputId": "fb533750-0dad-4b82-f066-550f52d8c003"
      },
      "execution_count": null,
      "outputs": [
        {
          "output_type": "stream",
          "name": "stdout",
          "text": [
            "4\n",
            "[1 2 3 4]\n",
            "[[1 2 3]\n",
            " [4 5 6]]\n",
            "[[[1 2 3]\n",
            "  [4 5 6]]\n",
            "\n",
            " [[1 2 3]\n",
            "  [4 5 6]]]\n",
            "0\n",
            "1\n",
            "2\n",
            "3\n",
            "4\n",
            "1\n",
            "2\n",
            "6\n"
          ]
        }
      ]
    },
    {
      "cell_type": "code",
      "source": [
        "#copy\n",
        "x=np.array([1,2,3,4])\n",
        "y=x.copy()\n",
        "x[0]=10\n",
        "print(x)\n",
        "print(y)\n",
        "print(y.base)"
      ],
      "metadata": {
        "colab": {
          "base_uri": "https://localhost:8080/"
        },
        "id": "x1mfcZIVFyLk",
        "outputId": "c717d36b-9ce4-4da7-f1ab-54809ff39758"
      },
      "execution_count": null,
      "outputs": [
        {
          "output_type": "stream",
          "name": "stdout",
          "text": [
            "[10  2  3  4]\n",
            "[1 2 3 4]\n",
            "None\n"
          ]
        }
      ]
    },
    {
      "cell_type": "code",
      "source": [
        "#view\n",
        "x=np.array([1,2,3,4])\n",
        "y=x.view()\n",
        "x[0]=10\n",
        "print(x)\n",
        "print(y)\n",
        "print(y.base)"
      ],
      "metadata": {
        "colab": {
          "base_uri": "https://localhost:8080/"
        },
        "id": "ky5DcBiKF9j1",
        "outputId": "685d1132-1d17-49f5-f46d-f4a0ca8f8ebc"
      },
      "execution_count": null,
      "outputs": [
        {
          "output_type": "stream",
          "name": "stdout",
          "text": [
            "[10  2  3  4]\n",
            "[10  2  3  4]\n",
            "[10  2  3  4]\n"
          ]
        }
      ]
    },
    {
      "cell_type": "code",
      "source": [
        "#shape\n",
        "x=np.array([1,2,3,4])\n",
        "y=np.array([[1,2,3],[4,5,6]])\n",
        "z=np.array(\n",
        "    [\n",
        "        [\n",
        "          [1,2,3],\n",
        "          [4,5,6]\n",
        "                  ],\n",
        "         [\n",
        "          [1,2,3],\n",
        "          [4,5,6]\n",
        "                  ]\n",
        "        ]\n",
        "    )\n",
        "print(x.shape)\n",
        "print(y.shape)\n",
        "print(z.shape)"
      ],
      "metadata": {
        "colab": {
          "base_uri": "https://localhost:8080/"
        },
        "id": "lpSIKieUGSXc",
        "outputId": "45a84043-9b47-4755-d4f2-0c69a1593cc8"
      },
      "execution_count": null,
      "outputs": [
        {
          "output_type": "stream",
          "name": "stdout",
          "text": [
            "(4,)\n",
            "(2, 3)\n",
            "(2, 2, 3)\n"
          ]
        }
      ]
    },
    {
      "cell_type": "code",
      "source": [
        "#reshape\n",
        "z=np.array([[1,2,3],[4,5,6]])\n",
        "print(z)\n",
        "print(z.shape)\n",
        "\n",
        "x=z.reshape(3,2)\n",
        "print(x.shape)\n",
        "print(x)\n"
      ],
      "metadata": {
        "colab": {
          "base_uri": "https://localhost:8080/"
        },
        "id": "j02xystNIq7V",
        "outputId": "8dd9d859-0827-4e2a-8db9-d508b397085b"
      },
      "execution_count": null,
      "outputs": [
        {
          "output_type": "stream",
          "name": "stdout",
          "text": [
            "[[1 2 3]\n",
            " [4 5 6]]\n",
            "(2, 3)\n",
            "(3, 2)\n",
            "[[1 2]\n",
            " [3 4]\n",
            " [5 6]]\n"
          ]
        }
      ]
    },
    {
      "cell_type": "code",
      "source": [
        "#for loop 1d\n",
        "z=np.array([1,2,3,4,5,6])\n",
        "for i in z:\n",
        "  print(i)"
      ],
      "metadata": {
        "colab": {
          "base_uri": "https://localhost:8080/"
        },
        "id": "nkwv89RvKjQE",
        "outputId": "562294f9-e6d1-4e18-8fef-83a4bfd9bea3"
      },
      "execution_count": null,
      "outputs": [
        {
          "output_type": "stream",
          "name": "stdout",
          "text": [
            "1\n",
            "2\n",
            "3\n",
            "4\n",
            "5\n",
            "6\n"
          ]
        }
      ]
    },
    {
      "cell_type": "code",
      "source": [
        "#iteration 2d\n",
        "z=np.array([[1,2,3],[4,5,6]])\n",
        "for i in x:\n",
        "  for j in i:\n",
        "    print(j)"
      ],
      "metadata": {
        "colab": {
          "base_uri": "https://localhost:8080/"
        },
        "id": "HkxDA_r_KyZ8",
        "outputId": "e9e29672-9b1b-4d9f-d445-48fb8c058ecf"
      },
      "execution_count": null,
      "outputs": [
        {
          "output_type": "stream",
          "name": "stdout",
          "text": [
            "1\n",
            "2\n",
            "3\n",
            "4\n",
            "5\n",
            "6\n"
          ]
        }
      ]
    },
    {
      "cell_type": "code",
      "source": [
        "#nditer\n",
        "x=np.array([[1,2,3],[4,5,6]])\n",
        "for i in np.nditer(x):\n",
        "  print(i)"
      ],
      "metadata": {
        "colab": {
          "base_uri": "https://localhost:8080/"
        },
        "id": "ptI37S8SLcp0",
        "outputId": "5ba73c18-7692-4f47-b1e4-9ae1af1038b0"
      },
      "execution_count": null,
      "outputs": [
        {
          "output_type": "stream",
          "name": "stdout",
          "text": [
            "1\n",
            "2\n",
            "3\n",
            "4\n",
            "5\n",
            "6\n"
          ]
        }
      ]
    },
    {
      "cell_type": "markdown",
      "source": [],
      "metadata": {
        "id": "rMjMai-7omT_"
      }
    },
    {
      "cell_type": "markdown",
      "source": [
        "## **Python Practical Problem-Solving Qustions**"
      ],
      "metadata": {
        "id": "Srkykel-opR-"
      }
    },
    {
      "cell_type": "code",
      "source": [
        "from typing import Counter\n",
        "#list:1\n",
        "x=[1,2,3,4,5,6,7,8,9,10]\n",
        "for i in range(2,len(x)+1,2):\n",
        "  print(i)\n",
        "print('end list 1')\n",
        "\n",
        "#list:2\n",
        "def r (list1,list2):\n",
        "  for i in list1:\n",
        "    if i in list2:\n",
        "      print(i)\n",
        "r([1,2,3,4,5],[4,5,6,7,8])\n",
        "print('end list 2')\n",
        "\n",
        "#list:3\n",
        "x = [1, 2, 3, 4, 5, 6, 7]\n",
        "\n",
        "for i in range(len(x), 0, -1):\n",
        "    print(i)\n",
        "print('end list 3')\n",
        "\n",
        "#list:4\n",
        "x=[1,2,3,4,5,6,7]\n",
        "total =0\n",
        "for i in x:\n",
        "  total += i\n",
        "print(total)\n",
        "print('end list 4')\n",
        "\n",
        "#list:5\n",
        "x=[2,1,3,4,5,6,7]\n",
        "x.sort()\n",
        "print(x[-2])\n",
        "print('end list 5')\n",
        "###########################################################\n",
        "#tuple:1\n",
        "x=(1,2,3,4,5)\n",
        "print(x[0])\n",
        "print(x[-1])\n",
        "print('end tuple 1')\n",
        "\n",
        "#tuple:2\n",
        "def r(t):\n",
        "\n",
        "    lst = list(t)\n",
        "    lst[0], lst[-1] = lst[-1], lst[0]\n",
        "    return tuple(lst)\n",
        "\n",
        "x = (1, 2, 3, 4, 5)\n",
        "x = r(x)\n",
        "print(x)\n",
        "print('end tuple 2')\n",
        "\n",
        "#tuple:3\n",
        "x=(2,1,3,4,5)\n",
        "y=list(x)\n",
        "y.sort()\n",
        "x=tuple(y)\n",
        "print(x)\n",
        "print('end tuple 3')\n",
        "\n",
        "#tuple:4\n",
        "x=(2,1,3,4,5)\n",
        "c= Counter(x)\n",
        "print(c)\n",
        "\n",
        "print('end tuple 4')\n",
        "\n",
        "###############################################\n",
        "#dictionary:1\n",
        "x={'Ali':40,'Ahmad':75,'Alwaleed':80,'Alaa':70,'Salim':35}\n",
        "\n",
        "for i in x.keys():\n",
        "  if x[i]>=50:\n",
        "    print(i)\n",
        "print('end dictionary 1')\n",
        "\n",
        "\n",
        "#dictionary:2\n",
        "def r(x,y):\n",
        "  x.update(y)\n",
        "  return x\n",
        "x={'Ali':40,'Ahmad':75,'Alwaleed':80,'Alaa':70,'Salim':35}\n",
        "y={'x':40,'y':75,'z':80,'r':70,'s':35}\n",
        "r(x,y)\n",
        "print(x)\n",
        "print('end dictionary 2')\n",
        "\n",
        "#dictionary:3\n",
        "x={'Ali':40,'Ahmad':75,'Alwaleed':80,'Alaa':70,'Salim':35}\n",
        "y=list(x.values())\n",
        "y.sort()\n",
        "z=y[-1]\n",
        "for key, value in x.items():\n",
        "    if value == z:\n",
        "        print(key)\n",
        "###########################################################\n",
        "#set:1\n",
        "x={1,2,3,4,5}\n",
        "y={4,5,6,7,8}\n",
        "z=x.intersection(y)\n",
        "x.update(y)\n",
        "print(z)\n",
        "print(x)\n",
        "print('end set 1')\n",
        "\n",
        "#set:2\n",
        "x=[1,2,3,3,4,5]\n",
        "z=set(x)\n",
        "y=list(z)\n",
        "print(y)\n",
        "\n",
        "print('end set 2')\n",
        "\n",
        "#set:3\n",
        "def r(x,y):\n",
        "  z=x.isdisjoint(y)\n",
        "  return z\n",
        "\n",
        "x={1,2,3,4,5}\n",
        "y={4,5,6,7,8}\n",
        "\n",
        "print(r(x,y))\n",
        "print('end set 3')\n",
        "\n",
        "#set:4\n",
        "x={1,2,3,4,5}\n",
        "y={4,5,6,7,8}\n",
        "x.symmetric_difference_update(y)\n",
        "print(x)\n",
        "print('end set 4')\n",
        "\n",
        "#####################################################\n",
        "#if:1\n",
        "x=1\n",
        "if x>0 :\n",
        "  print('p')\n",
        "elif x<0:\n",
        "  print('n')\n",
        "else:\n",
        "  print('z')\n",
        "\n",
        "print('end if:1')\n",
        "\n",
        "#if:2\n",
        "def r(year):\n",
        "    if (year % 4 == 0) and (year % 100 != 0 or year % 400 == 0):\n",
        "        return True\n",
        "    else:\n",
        "        return False\n",
        "\n",
        "\n",
        "year = 2025\n",
        "print(r(year))\n",
        "print('end if:2')\n",
        "\n",
        "#if:3\n",
        "def r(c):\n",
        " ch='aeiouAEIOU'\n",
        " if c in ch:\n",
        "   print('vowel')\n",
        " else:\n",
        "   print('consonant')\n",
        "r('c')\n",
        "print('end if:3')\n",
        "###################################################\n",
        "#while loop:1\n",
        "i=0\n",
        "while i<=100:\n",
        "  i+=1\n",
        "  if i%17==0:\n",
        "    break\n",
        "  print(i)\n",
        "\n",
        "print('end while:1')\n",
        "\n",
        "#while loop:2\n",
        "total = 0\n",
        "\n",
        "while True:\n",
        "    #num = int(input(\"أدخل رقمًا (أدخل -1 للتوقف): \"))\n",
        "    num=-1\n",
        "    if num == -1:\n",
        "        break\n",
        "    total += num\n",
        "\n",
        "print(\"المجموع:\", total)\n",
        "print('end while:2')\n",
        "\n",
        "#while loop:3\n",
        "i = 0\n",
        "while i < 50:\n",
        "    i += 1\n",
        "    if i % 2 == 0:\n",
        "        continue\n",
        "    print(i)\n",
        "\n",
        "print('end while:3')\n",
        "###################################################\n",
        "\n",
        "#for loop:2\n",
        "def r(n):\n",
        "    for i in range(0,11):\n",
        "      print(f\"{n} * {i} = {i * x}\")\n",
        "\n",
        "r(8)\n",
        "print('end for loop:1')\n",
        "\n",
        "#for loop:2\n",
        "x='alwleed'\n",
        "vowels = 'aeiouAEIOU'\n",
        "count=0\n",
        "for i in x:\n",
        "  if i in vowels:\n",
        "    count+=1\n",
        "print(count)\n",
        "print('end for loop:2')\n",
        "\n",
        "#for loop:3\n",
        "x=[1,2,3,4,5,6,7,8,9,10,11]\n",
        "for i in x:\n",
        "  if i<6:\n",
        "    continue\n",
        "  print(i)\n",
        "\n",
        "print('end for loop:3')\n",
        "########################################################\n",
        "#function:1\n",
        "def r(num):\n",
        "  re=1\n",
        "  for i in range(1,num+1):\n",
        "    re*=i\n",
        "\n",
        "  print(re)\n",
        "\n",
        "r(5)\n",
        "print('end function:1')\n",
        "\n",
        "#function:2\n",
        "def r(text):\n",
        "    return text == text[::-1]\n",
        "\n",
        "\n",
        "print(r('dad'))\n",
        "print('end function:2')\n",
        "\n",
        "#function:3\n",
        "def r(lst):\n",
        "    result = []\n",
        "    for i in lst:\n",
        "        result.append(i * i)\n",
        "    return result\n",
        "\n",
        "print(r([1, 2, 3, 4, 5]))\n",
        "print('end function:3')\n",
        "##################################################\n",
        "#recursion:1\n",
        "def r(n):\n",
        "    if n == 0:\n",
        "        return 0\n",
        "    elif n == 1:\n",
        "        return 1\n",
        "    else:\n",
        "        return r(n-1) + r(n-2)\n",
        "\n",
        "print(r(5))\n",
        "print(r(8))\n",
        "print('end recursion:1')\n",
        "\n",
        "#recursion:2\n",
        "def power(base, exponent):\n",
        "    if exponent == 0:\n",
        "        return 1\n",
        "    else:\n",
        "        return base * power(base, exponent - 1)\n",
        "\n",
        "print(power(2, 3))\n",
        "print('end recursion:2')\n",
        "\n",
        "#recursion:3\n",
        "def r(lst):\n",
        "    if len(lst) == 0:\n",
        "        return 0\n",
        "    else:\n",
        "        return lst[0] + r(lst[1:])\n",
        "numbers = [1, 2, 3, 4, 5]\n",
        "result = r(numbers)\n",
        "print(result)\n",
        "print('end recursion:3')\n",
        "###############################################################\n",
        "#break&&continue:1\n",
        "for i in range(1, 21):\n",
        "    if i % 3 == 0:\n",
        "        continue\n",
        "\n",
        "    print(i)\n",
        "print('end break&&continue:1')\n",
        "\n",
        "#break&&continue:2\n",
        "for i in range(1, 51):\n",
        "    if i % 7 == 0 and i % 13 == 0:\n",
        "        break\n",
        "    print(i)\n",
        "\n",
        "print('end break&&continue:2')\n",
        "\n",
        "#break&&continue:2\n",
        "def r(lst):\n",
        "    for i in lst:\n",
        "        if i % 2 == 0:\n",
        "            break\n",
        "        print(i)\n",
        "\n",
        "r([1, 2, 3, 4, 5])\n",
        "print('end break&&continue:3')\n",
        "########################################################\n",
        "#class:1\n",
        "class Car:\n",
        "\n",
        "    def __init__(self, brand, model):\n",
        "        self.brand = brand\n",
        "        self.model = model\n",
        "\n",
        "\n",
        "    def display_info(self):\n",
        "        print(f\"العلامة التجارية: {self.brand}\")\n",
        "        print(f\"الموديل: {self.model}\")\n",
        "\n",
        "# اختبار الكود:\n",
        "car1 = Car(\"تويوتا\", \"كورولا\")\n",
        "car1.display_info()\n",
        "\n",
        "car2 = Car(\"فورد\", \"سكيب\")\n",
        "car2.display_info()\n",
        "print('end class:1')\n",
        "\n",
        "#class:2\n",
        "class MyClass:\n",
        "\n",
        "    count = 0\n",
        "\n",
        "\n",
        "    def __init__(self):\n",
        "\n",
        "        MyClass.count += 1\n",
        "\n",
        "\n",
        "    @classmethod\n",
        "    def get_object_count(cls):\n",
        "        return cls.count\n",
        "\n",
        "\n",
        "obj1 = MyClass()\n",
        "obj2 = MyClass()\n",
        "obj3 = MyClass()\n",
        "\n",
        "\n",
        "print(f\"عدد الكائنات التي تم إنشاؤها: {MyClass.get_object_count()}\")\n",
        "print('end class:2')\n",
        "#class:3\n",
        "\n",
        "\n",
        "class Person:\n",
        "    def __init__(self, name, age):\n",
        "        self.name = name\n",
        "        self.age = age\n",
        "\n",
        "    def display_info(self):\n",
        "        print(f\"الاسم: {self.name}, العمر: {self.age}\")\n",
        "\n",
        "\n",
        "class Student(Person):\n",
        "    def study(self):\n",
        "        print(f\"{self.name} يدرس بجد.\")\n",
        "\n",
        "student1 = Student(\"خالد\", 20)\n",
        "student1.display_info()\n",
        "student1.study()\n",
        "print('end class:3')\n",
        "\n",
        "#class : 4\n",
        "class Dog:\n",
        "    def make_sound(self):\n",
        "        print(\"الكلب ينبح!\")\n",
        "\n",
        "class Cat:\n",
        "    def make_sound(self):\n",
        "        print(\"القطة تموء!\")\n",
        "\n",
        "dog = Dog()\n",
        "cat = Cat()\n",
        "\n",
        "for animal in (dog, cat):\n",
        "    animal.make_sound()\n",
        "print('end class:4')\n",
        "\n",
        "##############################################\n",
        "#json:1\n",
        "import json\n",
        "\n",
        "\n",
        "data = {\n",
        "    \"name\": \"Ali\",\n",
        "    \"age\": 25,\n",
        "    \"city\": \"Riyadh\"\n",
        "}\n",
        "\n",
        "json_string = json.dumps(data)\n",
        "\n",
        "\n",
        "print(json_string)\n",
        "################################################################3\n",
        "import numpy as np\n",
        "\n",
        "arr = np.array([[0,0,0,0], [0,0,0,0]])  # قائمة داخل قائمة\n",
        "\n",
        "print(arr)\n",
        "print('end numpy:1')\n",
        "#numpy:2\n",
        "import numpy as np\n",
        "\n",
        "arr = np.array([1, 2, 3,70,55,10,14, 4, 5,88])\n",
        "\n",
        "print(arr)\n",
        "print('end numpy:2')\n",
        "#numpy:3\n",
        "import numpy as np\n",
        "arr = np.array([1, 2, 3,70,55,10,14, 4, 5,88])\n",
        "\n",
        "print(np.mean(arr))\n",
        "\n",
        "print(np.median(arr))\n",
        "\n",
        "print(np.std(arr))\n",
        "\n",
        "print(arr)\n",
        "print('end numpy:3')\n",
        "#numpu:4\n",
        "import numpy as np\n",
        "arr = np.array([[1,2,3],[4,5,6]])\n",
        "z= arr.reshape(3, 2)\n",
        "print(z)\n",
        "print('end numpy:4')\n",
        "#numpy:5\n",
        "import numpy as np\n",
        "arr1 = np.array([[1,2,3],[4,5,6]])\n",
        "arr2 = np.array([[1,2,3],[4,5,6]])\n",
        "re =arr1+arr2\n",
        "print(re)\n",
        "print('end numpy:5')\n",
        "\n",
        "#numpy:6\n",
        "import numpy as np\n",
        "arr1 = np.array([[1,2,3],[4,5,6]])\n",
        "arr2 = np.array([[1,2,3],[4,5,6]])\n",
        "re =arr1*arr2\n",
        "print(re)\n",
        "print('end numpy:6')\n",
        "#numpy:7\n",
        "\n",
        "import numpy as np\n",
        "arr1 = np.array([[1,2,3],[4,5,6],[1,2,3]])\n",
        "print(arr1[:3, :2])\n",
        "\n",
        "\n",
        "\n",
        "\n",
        "\n",
        "\n",
        "\n",
        "\n",
        "\n",
        "\n",
        "\n",
        "\n",
        "\n"
      ],
      "metadata": {
        "colab": {
          "base_uri": "https://localhost:8080/"
        },
        "id": "CTqVEZiro7k8",
        "outputId": "5496e3a7-cf60-4d7c-fba0-9a1ff261340b"
      },
      "execution_count": 227,
      "outputs": [
        {
          "output_type": "stream",
          "name": "stdout",
          "text": [
            "2\n",
            "4\n",
            "6\n",
            "8\n",
            "10\n",
            "end list 1\n",
            "4\n",
            "5\n",
            "end list 2\n",
            "7\n",
            "6\n",
            "5\n",
            "4\n",
            "3\n",
            "2\n",
            "1\n",
            "end list 3\n",
            "28\n",
            "end list 4\n",
            "6\n",
            "end list 5\n",
            "1\n",
            "5\n",
            "end tuple 1\n",
            "(5, 2, 3, 4, 1)\n",
            "end tuple 2\n",
            "(1, 2, 3, 4, 5)\n",
            "end tuple 3\n",
            "Counter({2: 1, 1: 1, 3: 1, 4: 1, 5: 1})\n",
            "end tuple 4\n",
            "Ahmad\n",
            "Alwaleed\n",
            "Alaa\n",
            "end dictionary 1\n",
            "{'Ali': 40, 'Ahmad': 75, 'Alwaleed': 80, 'Alaa': 70, 'Salim': 35, 'x': 40, 'y': 75, 'z': 80, 'r': 70, 's': 35}\n",
            "end dictionary 2\n",
            "Alwaleed\n",
            "{4, 5}\n",
            "{1, 2, 3, 4, 5, 6, 7, 8}\n",
            "end set 1\n",
            "[1, 2, 3, 4, 5]\n",
            "end set 2\n",
            "False\n",
            "end set 3\n",
            "{1, 2, 3, 6, 7, 8}\n",
            "end set 4\n",
            "p\n",
            "end if:1\n",
            "False\n",
            "end if:2\n",
            "consonant\n",
            "end if:3\n",
            "1\n",
            "2\n",
            "3\n",
            "4\n",
            "5\n",
            "6\n",
            "7\n",
            "8\n",
            "9\n",
            "10\n",
            "11\n",
            "12\n",
            "13\n",
            "14\n",
            "15\n",
            "16\n",
            "end while:1\n",
            "المجموع: 0\n",
            "end while:2\n",
            "1\n",
            "3\n",
            "5\n",
            "7\n",
            "9\n",
            "11\n",
            "13\n",
            "15\n",
            "17\n",
            "19\n",
            "21\n",
            "23\n",
            "25\n",
            "27\n",
            "29\n",
            "31\n",
            "33\n",
            "35\n",
            "37\n",
            "39\n",
            "41\n",
            "43\n",
            "45\n",
            "47\n",
            "49\n",
            "end while:3\n",
            "8 * 0 = 0\n",
            "8 * 1 = 1\n",
            "8 * 2 = 2\n",
            "8 * 3 = 3\n",
            "8 * 4 = 4\n",
            "8 * 5 = 5\n",
            "8 * 6 = 6\n",
            "8 * 7 = 7\n",
            "8 * 8 = 8\n",
            "8 * 9 = 9\n",
            "8 * 10 = 10\n",
            "end for loop:1\n",
            "3\n",
            "end for loop:2\n",
            "6\n",
            "7\n",
            "8\n",
            "9\n",
            "10\n",
            "11\n",
            "end for loop:3\n",
            "120\n",
            "end function:1\n",
            "True\n",
            "end function:2\n",
            "[1, 4, 9, 16, 25]\n",
            "end function:3\n",
            "5\n",
            "21\n",
            "end recursion:1\n",
            "8\n",
            "end recursion:2\n",
            "15\n",
            "end recursion:3\n",
            "1\n",
            "2\n",
            "4\n",
            "5\n",
            "7\n",
            "8\n",
            "10\n",
            "11\n",
            "13\n",
            "14\n",
            "16\n",
            "17\n",
            "19\n",
            "20\n",
            "end break&&continue:1\n",
            "1\n",
            "2\n",
            "3\n",
            "4\n",
            "5\n",
            "6\n",
            "7\n",
            "8\n",
            "9\n",
            "10\n",
            "11\n",
            "12\n",
            "13\n",
            "14\n",
            "15\n",
            "16\n",
            "17\n",
            "18\n",
            "19\n",
            "20\n",
            "21\n",
            "22\n",
            "23\n",
            "24\n",
            "25\n",
            "26\n",
            "27\n",
            "28\n",
            "29\n",
            "30\n",
            "31\n",
            "32\n",
            "33\n",
            "34\n",
            "35\n",
            "36\n",
            "37\n",
            "38\n",
            "39\n",
            "40\n",
            "41\n",
            "42\n",
            "43\n",
            "44\n",
            "45\n",
            "46\n",
            "47\n",
            "48\n",
            "49\n",
            "50\n",
            "end break&&continue:2\n",
            "1\n",
            "end break&&continue:3\n",
            "العلامة التجارية: تويوتا\n",
            "الموديل: كورولا\n",
            "العلامة التجارية: فورد\n",
            "الموديل: سكيب\n",
            "end class:1\n",
            "عدد الكائنات التي تم إنشاؤها: 3\n",
            "end class:2\n",
            "الاسم: خالد, العمر: 20\n",
            "خالد يدرس بجد.\n",
            "end class:3\n",
            "الكلب ينبح!\n",
            "القطة تموء!\n",
            "end class:4\n",
            "{\"name\": \"Ali\", \"age\": 25, \"city\": \"Riyadh\"}\n",
            "[[0 0 0 0]\n",
            " [0 0 0 0]]\n",
            "end numpy:1\n",
            "[ 1  2  3 70 55 10 14  4  5 88]\n",
            "end numpy:2\n",
            "25.2\n",
            "7.5\n",
            "31.09598044763985\n",
            "[ 1  2  3 70 55 10 14  4  5 88]\n",
            "end numpy:3\n",
            "[[1 2]\n",
            " [3 4]\n",
            " [5 6]]\n",
            "end numpy:4\n",
            "[[ 2  4  6]\n",
            " [ 8 10 12]]\n",
            "end numpy:5\n",
            "[[ 1  4  9]\n",
            " [16 25 36]]\n",
            "end numpy:6\n",
            "[[1 2]\n",
            " [4 5]\n",
            " [1 2]]\n"
          ]
        }
      ]
    }
  ]
}